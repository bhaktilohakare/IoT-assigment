{
 "cells": [
  {
   "cell_type": "code",
   "execution_count": 54,
   "id": "dcd1e3a7-9346-44ef-bff4-8ea5b41dff77",
   "metadata": {},
   "outputs": [],
   "source": [
    "# 1. Write a NumPy program to create an array with the values 1, 7, 13, 105 \n",
    "# and determine the size of the memory occupied by the arr"
   ]
  },
  {
   "cell_type": "code",
   "execution_count": 55,
   "id": "9a8db10c-ae9c-427b-bb8f-aec7b46a65fe",
   "metadata": {},
   "outputs": [],
   "source": [
    " import numpy as np"
   ]
  },
  {
   "cell_type": "code",
   "execution_count": 56,
   "id": "0ab7f0a6-3d3d-476c-bf00-95fac9384de0",
   "metadata": {},
   "outputs": [],
   "source": [
    "def function1():\n",
    "    arr = np.array([1,7,13,105])\n",
    "    print(arr)\n",
    "    print(f\"Type = {type(arr)}\")\n",
    "    print(f\"Size = {arr.size}\")\n",
    "    print(f\"Memory occupied= {arr.nbytes}\")\n",
    "    "
   ]
  },
  {
   "cell_type": "code",
   "execution_count": 57,
   "id": "9b856e7d-b8ad-44ae-8d7c-9eccde9abce6",
   "metadata": {},
   "outputs": [
    {
     "name": "stdout",
     "output_type": "stream",
     "text": [
      "[  1   7  13 105]\n",
      "Type = <class 'numpy.ndarray'>\n",
      "Size = 4\n",
      "Memory occupied= 32\n"
     ]
    }
   ],
   "source": [
    "function1()"
   ]
  },
  {
   "cell_type": "code",
   "execution_count": 58,
   "id": "4fe0971d-0232-42f9-95ae-a49308b107db",
   "metadata": {},
   "outputs": [],
   "source": [
    "# 2. Write a NumPy program to create an element-wise comparison\n",
    "#  (greater,    greater_equal, less and less_equal) of two given arrays.\n"
   ]
  },
  {
   "cell_type": "code",
   "execution_count": 59,
   "id": "cfcb040f-207f-42f3-b043-d4e0c0ae69a2",
   "metadata": {},
   "outputs": [],
   "source": [
    "def function(a):\n",
    "    a1=np.array([1,2,3,4])\n",
    "    a2=np.array([7,4,3,2])\n",
    "    if a1[a]>a2[a]:\n",
    "        print(\"a1 is greater\")\n",
    "    elif a1[a]<a2[a]:\n",
    "        print(\"a2 is greater\")\n",
    "    else:\n",
    "        print(\"equal\")\n",
    "[33]:\n"
   ]
  },
  {
   "cell_type": "code",
   "execution_count": 60,
   "id": "4060ca98-095f-41e3-b1d6-e290b69e47fb",
   "metadata": {},
   "outputs": [
    {
     "name": "stdout",
     "output_type": "stream",
     "text": [
      "a2 is greater\n"
     ]
    }
   ],
   "source": [
    "function(1)"
   ]
  },
  {
   "cell_type": "code",
   "execution_count": 61,
   "id": "5c75aec5-c9ca-47a9-908e-b3658034e4b2",
   "metadata": {},
   "outputs": [],
   "source": [
    " # 3. Write a NumPy program to create an array of 10 zeros, 10 ones, 10    \n",
    "#fives, 10 tens, 10 twentys and 10 fiftys."
   ]
  },
  {
   "cell_type": "code",
   "execution_count": 62,
   "id": "61280314-119f-4351-a2e7-a5e27b8da76e",
   "metadata": {},
   "outputs": [
    {
     "name": "stdout",
     "output_type": "stream",
     "text": [
      "[0. 0. 0. 0. 0. 0. 0. 0. 0. 0.] [1. 1. 1. 1. 1. 1. 1. 1. 1. 1.] [5. 5. 5. 5. 5. 5. 5. 5. 5. 5.] [10. 10. 10. 10. 10. 10. 10. 10. 10. 10.] [20. 20. 20. 20. 20. 20. 20. 20. 20. 20.] [50. 50. 50. 50. 50. 50. 50. 50. 50. 50.]\n"
     ]
    }
   ],
   "source": [
    "\n",
    "[33]:\n",
    "arr1=np.zeros(10)\n",
    "arr2=np.ones(10)\n",
    "arr3=np.ones(10)*5\n",
    "arr4=np.ones(10)*10\n",
    "arr5=np.ones(10)*20\n",
    "arr6=np.ones(10)*50\n",
    "print(arr1,arr2,arr3,arr4,arr5,arr6)\n",
    "#print(arr7)\n"
   ]
  },
  {
   "cell_type": "code",
   "execution_count": 63,
   "id": "68cc02b3-772d-49f4-9bcc-fb22fa120827",
   "metadata": {},
   "outputs": [],
   "source": [
    "# 4 .Write a NumPy program to create an array of integers from 30 to 70."
   ]
  },
  {
   "cell_type": "code",
   "execution_count": 64,
   "id": "604e9b32-8111-439b-9f68-ad9a41aff09c",
   "metadata": {},
   "outputs": [
    {
     "name": "stdout",
     "output_type": "stream",
     "text": [
      "[30 31 32 33 34 35 36 37 38 39 40 41 42 43 44 45 46 47 48 49 50 51 52 53\n",
      " 54 55 56 57 58 59 60 61 62 63 64 65 66 67 68 69 70]\n"
     ]
    }
   ],
   "source": [
    "arr=np.arange(30,71,1)\n",
    "print(arr)"
   ]
  },
  {
   "cell_type": "code",
   "execution_count": 65,
   "id": "49a7e19d-cd88-4c0f-9ec7-f9e76fa9a7ad",
   "metadata": {},
   "outputs": [],
   "source": [
    "# 5. Write a NumPy program to create an array of integers from 50 to 95."
   ]
  },
  {
   "cell_type": "code",
   "execution_count": 66,
   "id": "80613aea-6ebb-49e0-9bd4-9236f83dad7f",
   "metadata": {},
   "outputs": [
    {
     "name": "stdout",
     "output_type": "stream",
     "text": [
      "[50 51 52 53 54 55 56 57 58 59 60 61 62 63 64 65 66 67 68 69 70 71 72 73\n",
      " 74 75 76 77 78 79 80 81 82 83 84 85 86 87 88 89 90 91 92 93 94]\n"
     ]
    }
   ],
   "source": [
    "arr=np.arange(50,95,1)\n",
    "print(arr)"
   ]
  },
  {
   "cell_type": "code",
   "execution_count": 67,
   "id": "6d1d9d89-eb69-4f47-9331-93ba5992736d",
   "metadata": {},
   "outputs": [],
   "source": [
    "# 6. Write a NumPy program to create an array of arr=np.arange(50,95,1)\n",
    "# print(arr)all even integers from 20 to 80.\n"
   ]
  },
  {
   "cell_type": "code",
   "execution_count": 68,
   "id": "f72ed34f-dcf4-4a4a-b550-42c63e4da44e",
   "metadata": {},
   "outputs": [
    {
     "name": "stdout",
     "output_type": "stream",
     "text": [
      "[20 22 24 26 28 30 32 34 36 38 40 42 44 46 48 50 52 54 56 58 60 62 64 66\n",
      " 68 70 72 74 76 78]\n"
     ]
    }
   ],
   "source": [
    "arr = np.arange(20,80,2)\n",
    "print(arr)"
   ]
  },
  {
   "cell_type": "code",
   "execution_count": 69,
   "id": "df0baced-b011-4ae1-9929-3cc8785974eb",
   "metadata": {},
   "outputs": [],
   "source": [
    " #7. Write a NumPy program to create an array of all odd integers from 20 to 80."
   ]
  },
  {
   "cell_type": "code",
   "execution_count": 70,
   "id": "bc3d5fbb-4ee8-48d8-bce3-76972fa64996",
   "metadata": {},
   "outputs": [
    {
     "name": "stdout",
     "output_type": "stream",
     "text": [
      "[20 22 24 26 28 30 32 34 36 38 40 42 44 46 48 50 52 54 56 58 60 62 64 66\n",
      " 68 70 72 74 76 78]\n"
     ]
    }
   ],
   "source": [
    "arr = np.arange(20,80,2)\n",
    "print(arr)"
   ]
  },
  {
   "cell_type": "code",
   "execution_count": 71,
   "id": "4d45ee5b-d7ea-4e86-91e4-88e7f0c156cc",
   "metadata": {},
   "outputs": [],
   "source": [
    "# 8 ."
   ]
  },
  {
   "cell_type": "code",
   "execution_count": 72,
   "id": "446532ac-94eb-4daf-becd-0782bf7c2f60",
   "metadata": {},
   "outputs": [
    {
     "name": "stdout",
     "output_type": "stream",
     "text": [
      "[32 39 35 37 31 40 44 35 39 34]\n"
     ]
    }
   ],
   "source": [
    "arr=np.random.randint(30,50,10)\n",
    "print(arr)"
   ]
  },
  {
   "cell_type": "code",
   "execution_count": 73,
   "id": "9a568aa3-444f-402c-8ef2-1fb1c04abd0e",
   "metadata": {},
   "outputs": [],
   "source": [
    "# 9"
   ]
  },
  {
   "cell_type": "code",
   "execution_count": 76,
   "id": "5d7c315d-3775-4f58-8eec-6f632474ba9e",
   "metadata": {},
   "outputs": [
    {
     "name": "stdout",
     "output_type": "stream",
     "text": [
      "[80 64 67 88 55 61 58 65 70 60 52 64 87 77 87 56 86 77 70 88]\n"
     ]
    }
   ],
   "source": [
    "arr=np.random.randint(50,90,20)\n",
    "print(arr)"
   ]
  },
  {
   "cell_type": "code",
   "execution_count": 77,
   "id": "2d943561-3342-4a96-af9b-fdf56a8fbf7b",
   "metadata": {},
   "outputs": [],
   "source": [
    "# 10."
   ]
  },
  {
   "cell_type": "code",
   "execution_count": 78,
   "id": "dd7dc0d5-5f62-42a4-9b63-5a76842138e1",
   "metadata": {},
   "outputs": [
    {
     "name": "stdout",
     "output_type": "stream",
     "text": [
      "[ 5  7  9 11] [-1 -1 -1 -1] [ 6 12 20 30] [0.66666667 0.75       0.8        0.83333333]\n"
     ]
    }
   ],
   "source": [
    "arr1=np.array([2,3,4,5])\n",
    "arr2=np.array([3,4,5,6])\n",
    "print((arr1+arr2),(arr1-arr2),(arr1*arr2),(arr1/arr2))"
   ]
  },
  {
   "cell_type": "code",
   "execution_count": 79,
   "id": "96dd70d1-b373-46b2-a06b-d7adaacee33e",
   "metadata": {},
   "outputs": [],
   "source": [
    "# 11 ."
   ]
  },
  {
   "cell_type": "code",
   "execution_count": 80,
   "id": "866be98f-02fd-4ac0-b47d-3aaf9405261d",
   "metadata": {},
   "outputs": [
    {
     "name": "stdout",
     "output_type": "stream",
     "text": [
      "[[10 11 12 13]\n",
      " [14 15 16 17]\n",
      " [18 19 20 21]]\n"
     ]
    }
   ],
   "source": [
    "arr=np.arange(10,22)\n",
    "arr=arr.reshape(3,4)\n",
    "print(arr)"
   ]
  },
  {
   "cell_type": "code",
   "execution_count": 81,
   "id": "6739e245-69d8-4215-896c-86e3d89e29ff",
   "metadata": {},
   "outputs": [],
   "source": [
    "# 12."
   ]
  },
  {
   "cell_type": "code",
   "execution_count": 82,
   "id": "9dd6d90c-3b12-42aa-806e-4e2d1b5caa13",
   "metadata": {},
   "outputs": [
    {
     "name": "stdout",
     "output_type": "stream",
     "text": [
      "[[1. 0. 0.]\n",
      " [0. 1. 0.]\n",
      " [0. 0. 1.]]\n"
     ]
    }
   ],
   "source": [
    "arr=np.eye(3)\n",
    "print(arr)"
   ]
  },
  {
   "cell_type": "code",
   "execution_count": 83,
   "id": "efd7aab2-18be-4e20-acc3-d57a814ace6e",
   "metadata": {},
   "outputs": [],
   "source": [
    "# 13."
   ]
  },
  {
   "cell_type": "code",
   "execution_count": 84,
   "id": "f438767f-f1f0-4d13-80d1-0dd60d483947",
   "metadata": {},
   "outputs": [
    {
     "name": "stdout",
     "output_type": "stream",
     "text": [
      "(3, 3)\n"
     ]
    }
   ],
   "source": [
    "arr1=np.arange(10,19,1)\n",
    "arr1=arr1.reshape(3,3)\n",
    "dim=arr1.shape\n",
    "print(dim)"
   ]
  },
  {
   "cell_type": "code",
   "execution_count": 85,
   "id": "e1333a52-920e-4a9d-861c-42cbdff9ce54",
   "metadata": {},
   "outputs": [],
   "source": [
    "# 14."
   ]
  },
  {
   "cell_type": "code",
   "execution_count": 86,
   "id": "c47f33bb-4546-45db-a97d-5306a5caf452",
   "metadata": {},
   "outputs": [
    {
     "name": "stdout",
     "output_type": "stream",
     "text": [
      "[[1 0 0 0 0]\n",
      " [0 2 0 0 0]\n",
      " [0 0 3 0 0]\n",
      " [0 0 0 4 0]\n",
      " [0 0 0 0 5]]\n"
     ]
    }
   ],
   "source": [
    "arr=np.diag([1,2,3,4,5])\n",
    "print(arr)\n"
   ]
  },
  {
   "cell_type": "code",
   "execution_count": 87,
   "id": "57023fa5-639c-4715-a618-5dd835230eec",
   "metadata": {},
   "outputs": [],
   "source": [
    "# 15."
   ]
  },
  {
   "cell_type": "code",
   "execution_count": 88,
   "id": "4656974e-1737-415d-902b-5e151f2dac68",
   "metadata": {},
   "outputs": [
    {
     "name": "stdout",
     "output_type": "stream",
     "text": [
      "[[[0.32885349 0.51619406 0.03290639]\n",
      "  [0.96152298 0.06660391 0.1159173 ]\n",
      "  [0.09383854 0.77040673 0.7010647 ]]\n",
      "\n",
      " [[0.89431322 0.95482966 0.13135861]\n",
      "  [0.02219867 0.37340773 0.67052024]\n",
      "  [0.32549249 0.04357465 0.42460767]]\n",
      "\n",
      " [[0.59936666 0.44227156 0.85399003]\n",
      "  [0.71629918 0.66512332 0.74616001]\n",
      "  [0.12303332 0.27172439 0.67231268]]]\n"
     ]
    }
   ],
   "source": [
    "arr=np.random.rand(3,3,3)\n",
    "print(arr)"
   ]
  },
  {
   "cell_type": "code",
   "execution_count": 89,
   "id": "1845a7e7-d74b-4fcf-8b66-4b9f2322fca0",
   "metadata": {},
   "outputs": [],
   "source": [
    "# 16."
   ]
  },
  {
   "cell_type": "code",
   "execution_count": 90,
   "id": "e7e1ff3e-f7fa-445f-bc9c-b307c428c41a",
   "metadata": {},
   "outputs": [
    {
     "name": "stdout",
     "output_type": "stream",
     "text": [
      "[[[0.57003674 0.73305339 0.67222207 0.45302626]\n",
      "  [0.63307036 0.79463233 0.93905372 0.4151022 ]\n",
      "  [0.11609191 0.08157511 0.4728025  0.03381092]]\n",
      "\n",
      " [[0.69415053 0.05244276 0.85800693 0.02822345]\n",
      "  [0.85139123 0.32851928 0.99430297 0.25267071]\n",
      "  [0.38201445 0.12011473 0.94058024 0.74607123]]]\n"
     ]
    }
   ],
   "source": [
    "arr=np.random.rand(2,3,4)\n",
    "print(arr)"
   ]
  },
  {
   "cell_type": "code",
   "execution_count": 91,
   "id": "b09270ed-37a8-49d2-9c2b-a5c9dfa4a4e7",
   "metadata": {},
   "outputs": [],
   "source": [
    "# 17."
   ]
  },
  {
   "cell_type": "code",
   "execution_count": 92,
   "id": "237d9bb8-d358-43ee-8abe-d151be6ac47e",
   "metadata": {},
   "outputs": [
    {
     "name": "stdout",
     "output_type": "stream",
     "text": [
      "[1 2 3 4 5]\n"
     ]
    }
   ],
   "source": [
    "l1=[1,2,3,4,5]\n",
    "arr=np.array(l1)\n",
    "print(arr)"
   ]
  },
  {
   "cell_type": "code",
   "execution_count": 93,
   "id": "43f75526-da29-4d7f-9071-9bcd498028e7",
   "metadata": {},
   "outputs": [],
   "source": [
    "# 18."
   ]
  },
  {
   "cell_type": "code",
   "execution_count": 94,
   "id": "2dc17ee3-6336-4e48-93b8-e95d59fc1e18",
   "metadata": {},
   "outputs": [
    {
     "name": "stdout",
     "output_type": "stream",
     "text": [
      "[[ 2  3  4]\n",
      " [ 5  6  7]\n",
      " [ 8  9 10]]\n"
     ]
    }
   ],
   "source": [
    "l1=np.arange(2,11).reshape(3,3)\n",
    "print(l1)"
   ]
  },
  {
   "cell_type": "code",
   "execution_count": 95,
   "id": "2a79e432-cb2d-4a06-92a3-b4d9a1fc68ef",
   "metadata": {},
   "outputs": [],
   "source": [
    "# 19."
   ]
  },
  {
   "cell_type": "code",
   "execution_count": 96,
   "id": "219cdce9-1d1b-4f9b-96f0-366571ab1a4e",
   "metadata": {},
   "outputs": [
    {
     "name": "stdout",
     "output_type": "stream",
     "text": [
      "[12 13 14 15 16 17 18 19 20 21 22 23 24 25 26 27 28 29 30 31 32 33 34 35\n",
      " 36 37 38]\n"
     ]
    }
   ],
   "source": [
    "l1=np.arange(12,39)\n",
    "print(l1)"
   ]
  },
  {
   "cell_type": "code",
   "execution_count": 97,
   "id": "81a7d012-2fd2-40f0-8396-427336e31398",
   "metadata": {},
   "outputs": [],
   "source": [
    "# 20."
   ]
  },
  {
   "cell_type": "code",
   "execution_count": 98,
   "id": "fbe6b0ca-5a5f-4536-a299-a35ee5bd3f02",
   "metadata": {},
   "outputs": [
    {
     "name": "stdout",
     "output_type": "stream",
     "text": [
      "[38 37 36 35 34 33 32 31 30 29 28 27 26 25 24 23 22 21 20 19 18 17 16 15\n",
      " 14 13 12]\n"
     ]
    }
   ],
   "source": [
    "l1=np.arange(12,39)\n",
    "print(l1[::-1])"
   ]
  },
  {
   "cell_type": "code",
   "execution_count": 99,
   "id": "e16c52ac-218b-484c-9c75-ca54e3e75d8c",
   "metadata": {},
   "outputs": [],
   "source": [
    "# 21."
   ]
  },
  {
   "cell_type": "code",
   "execution_count": 100,
   "id": "fb0a5bdb-ee2c-4bf1-9b6e-50321e1ad187",
   "metadata": {},
   "outputs": [
    {
     "name": "stdout",
     "output_type": "stream",
     "text": [
      "dtype=float64\n"
     ]
    }
   ],
   "source": [
    "arr=np.array([1,2,3,4,5],dtype=float)\n",
    "print(f\"dtype={arr.dtype}\")\n"
   ]
  },
  {
   "cell_type": "code",
   "execution_count": 101,
   "id": "9bde6f76-9ec4-4340-b77b-65401e8c579f",
   "metadata": {},
   "outputs": [],
   "source": [
    "# 22."
   ]
  },
  {
   "cell_type": "code",
   "execution_count": 102,
   "id": "8b61f34c-3cf5-4949-9ccf-f09e2417935b",
   "metadata": {},
   "outputs": [
    {
     "name": "stdout",
     "output_type": "stream",
     "text": [
      "[1, 2, 3, 4, 5, 6]\n"
     ]
    }
   ],
   "source": [
    "l1=[1,2,3,4,5,6]\n",
    "arr=np.array(l1)\n",
    "print(l1)"
   ]
  },
  {
   "cell_type": "code",
   "execution_count": 103,
   "id": "ae7e85cc-f624-469a-a6fc-f4cbabdb7b61",
   "metadata": {},
   "outputs": [],
   "source": [
    "# 23."
   ]
  },
  {
   "cell_type": "code",
   "execution_count": 104,
   "id": "2a77f3a7-1a2b-4622-a1e0-f2ff2464667f",
   "metadata": {},
   "outputs": [
    {
     "name": "stdout",
     "output_type": "stream",
     "text": [
      "[2 0 1 2 0 1 2 0 1 2 0 1 2 0 1 2 0 1 2 0 1 2 0 1 2 0 1 2 0 1]\n"
     ]
    }
   ],
   "source": [
    "arr=np.arange(20,50)\n",
    "x=np.remainder(arr,3)\n",
    "print(x)"
   ]
  },
  {
   "cell_type": "code",
   "execution_count": null,
   "id": "301a7c47-0718-4581-addb-ce2493784615",
   "metadata": {},
   "outputs": [],
   "source": []
  }
 ],
 "metadata": {
  "kernelspec": {
   "display_name": "Python 3 (ipykernel)",
   "language": "python",
   "name": "python3"
  },
  "language_info": {
   "codemirror_mode": {
    "name": "ipython",
    "version": 3
   },
   "file_extension": ".py",
   "mimetype": "text/x-python",
   "name": "python",
   "nbconvert_exporter": "python",
   "pygments_lexer": "ipython3",
   "version": "3.10.12"
  }
 },
 "nbformat": 4,
 "nbformat_minor": 5
}
